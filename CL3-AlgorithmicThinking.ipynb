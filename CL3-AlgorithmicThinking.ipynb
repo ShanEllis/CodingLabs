{
 "cells": [
  {
   "cell_type": "markdown",
   "metadata": {},
   "source": [
    "# CL3: Algorithmic Thinking\n",
    "\n",
    "Welcome to the third coding lab!\n",
    "\n",
    "In this CodingLab we will be thinking and working on functions and algorithms. \n",
    "\n",
    "The first part is more abstract - thinking about algorithms and functions, and sketching out some pseudocode. \n",
    "\n",
    "After that, we'll move to more practice with functions. "
   ]
  },
  {
   "cell_type": "markdown",
   "metadata": {},
   "source": [
    "## PseudoCode\n",
    "\n",
    "First, let's briefly consider the idea of pseudocode. \n",
    "\n",
    "PseudoCode is an informal, 'high-level' sketch or description of a program or algorithm . \n",
    "\n",
    "It will typically resemble the structure of a program, but the details to make it actually run have not been fleshed out. "
   ]
  },
  {
   "cell_type": "markdown",
   "metadata": {},
   "source": [
    "### Pseudocode Human Language\n",
    "\n",
    "Some pseudocode is written in human level language, in a way that sketches out the tasks and general control flow. \n",
    "\n",
    "This highly abstract pseudocode is often not specific to any particular programming language. "
   ]
  },
  {
   "cell_type": "markdown",
   "metadata": {},
   "source": [
    "```\n",
    "# PseudoCode for checking if a student got full credit on assignment\n",
    "\n",
    "function that takes a list of student ids with student grades\n",
    "\n",
    "    create an output object to collect full credit\n",
    "\n",
    "    for student in list of grades\n",
    "\n",
    "        if grade of student is equal to max grade\n",
    "            add to list of full credits\n",
    "\n",
    "    return list of \n",
    "```"
   ]
  },
  {
   "cell_type": "markdown",
   "metadata": {},
   "source": [
    "### Pseudocode in Python format\n",
    "\n",
    "You can also write pseudocode, that is much closer to Python, including Python syntax, but that is more of a template / outline. \n",
    "\n",
    "PseudoCode like this is sometimes just a work-in-progress that is just not yet finished. \n",
    "\n",
    "Note the use of the `pass` keyword - `pass` is just a placeholder keyword, that does nothing."
   ]
  },
  {
   "cell_type": "code",
   "execution_count": 9,
   "metadata": {
    "collapsed": true
   },
   "outputs": [],
   "source": [
    "# PseudoCode for a function to email a list of emails, and return a log of what was sent\n",
    "def sent_emails(list_of_emails):\n",
    "\n",
    "    emails_sent = {}  # Define an output variable for the logging\n",
    "\n",
    "    for email in list_of_emails:\n",
    "\n",
    "        # Send email to current student\n",
    "        pass\n",
    "\n",
    "        # Add logging information that email was sent\n",
    "        email_sent[email] = True\n",
    "\n",
    "    return emails_sent"
   ]
  },
  {
   "cell_type": "markdown",
   "metadata": {},
   "source": [
    "## Computation &  Algorithms\n",
    "\n",
    "Both computers and humans are good at some things, and bad at others. However, it tends to be different things that computers and humans are good at. \n",
    "\n",
    "Note: as a rule of thumb, computers are good at anything we can right down an algorithm to complete. \n",
    "\n",
    "For each \n",
    "\n",
    "- Given a list of 100K values, find the average and range of the list\n",
    "- Sort an array of randomly generated numbers from smallest to largest\n",
    "- Recognize the saddest part of a movie\n",
    "- Recall specific facts, like answering 'which day of the week was the 1st of June, 1997\n",
    "- Identify the likely country of origin of a person from their accent\n",
    "- Create a meme\n",
    "- Sort a list of 10,000 names alphabetically\n",
    "- Rank memes in order of how funny they are\n",
    "- Given two locations, figure out the best route to drive to get between them\n",
    "- Recognize the emotional state of a person\n",
    "- Flexibly change strategy, based on cues in the environment\n",
    "- Write and perform a winning rap battle \n",
    "- Learn and be able to understand a human language\n",
    "- Learn and be able to understand a programming language\n",
    "- Play tic-tac-toe\n",
    "- Write a review of a movie\n",
    "- Play chess\n",
    "- Play PACMAC\n"
   ]
  },
  {
   "cell_type": "markdown",
   "metadata": {},
   "source": [
    "### Instructions\n",
    "\n",
    "For each task above, first try and decide whether it is a task that computers would be better at, that humans would be better at, or if it could be a tie. \n",
    "\n",
    "Work through this with about 3 or 4 examples from the list above, making sure to do at least one of each of 'computer better' and 'human thing'. \n",
    "\n",
    "For each thing, try to imagine how you might try and do this in Python. Use pseudocode to sketch out an outline of the procedure. \n",
    "- If you think it is something computers can do well, your pseudocode should roughly cover the whole process.\n",
    "- If you think think it is more of a human thing, try to identify which part of the process, in particular, is difficult to specify within a formal algorithm. "
   ]
  },
  {
   "cell_type": "markdown",
   "metadata": {},
   "source": [
    "#### Example: Given a list of 100K values, find the average and range of the list\n",
    "\n",
    "This is a task that is easier for computers because we can write down a clear set of steps to complete this task (we can write an algorithm). \n",
    "\n",
    "Humans would not be good at completing this task, as there are a lot of steps to complete, and it would be slow, and we might not have the memory to do it.  "
   ]
  },
  {
   "cell_type": "code",
   "execution_count": 16,
   "metadata": {
    "collapsed": true
   },
   "outputs": [],
   "source": [
    "# Pseudocode for array statistics\n",
    "def array_statistics():\n",
    "    \n",
    "    # Find the mean of the array. \n",
    "    pass\n",
    "    # To do so:\n",
    "        # Find the total sum of the array\n",
    "        # Find the number of elements in the array\n",
    "        # Divide the sum by the number of elements\n",
    "        \n",
    "    # Find the range of the array. \n",
    "    pass\n",
    "    # To do so:\n",
    "        # Find the maximum value of the array\n",
    "        # Find the minimum value of the array\n",
    "        # Calculate range by subtracting the max from the min for the array\n",
    "    \n",
    "    # Return the mean and range of the array\n",
    "    return None"
   ]
  },
  {
   "cell_type": "code",
   "execution_count": null,
   "metadata": {
    "collapsed": true
   },
   "outputs": [],
   "source": []
  },
  {
   "cell_type": "markdown",
   "metadata": {},
   "source": [
    "## Function Explorations\n",
    "\n",
    "Some explorations writing functions. "
   ]
  },
  {
   "cell_type": "markdown",
   "metadata": {},
   "source": [
    "### Write a function that takes one input, multiplies it by two and returns the result"
   ]
  },
  {
   "cell_type": "code",
   "execution_count": 17,
   "metadata": {
    "collapsed": true
   },
   "outputs": [],
   "source": [
    "# YOUR CODE HERE"
   ]
  },
  {
   "cell_type": "markdown",
   "metadata": {},
   "source": [
    "### Write a function that takes two inputs, adds them together, and returns the result"
   ]
  },
  {
   "cell_type": "code",
   "execution_count": 18,
   "metadata": {
    "collapsed": true
   },
   "outputs": [],
   "source": [
    "# YOUR CODE HERE"
   ]
  },
  {
   "cell_type": "markdown",
   "metadata": {},
   "source": [
    "### Write a function with a conditional inside it\n",
    "\n",
    "You can decide what this function does. \n",
    "\n",
    "It could, for example, take a boolean, and print out a status if the input is True. "
   ]
  },
  {
   "cell_type": "code",
   "execution_count": 21,
   "metadata": {
    "collapsed": true
   },
   "outputs": [],
   "source": [
    "# YOUR CODE HERE"
   ]
  },
  {
   "cell_type": "markdown",
   "metadata": {},
   "source": [
    "### Write a function with a loop inside it\n",
    "\n",
    "You can decide what this function does. \n",
    "\n",
    "It could, for example, take a list of numbers, and add 1 to each element, and return the new list. "
   ]
  },
  {
   "cell_type": "code",
   "execution_count": 23,
   "metadata": {
    "collapsed": true
   },
   "outputs": [],
   "source": [
    "# YOUR CODE HERE"
   ]
  },
  {
   "cell_type": "markdown",
   "metadata": {},
   "source": [
    "### Write a function with a loop and a conditional inside it\n",
    "\n",
    "You can decide what this function does. \n",
    "\n",
    "It could, for example, take a list of booleans, and count how many elements are True, returning a count of `True` values. "
   ]
  },
  {
   "cell_type": "code",
   "execution_count": 22,
   "metadata": {
    "collapsed": true
   },
   "outputs": [],
   "source": [
    "# YOUR CODE HERE"
   ]
  }
 ],
 "metadata": {
  "kernelspec": {
   "display_name": "Python [conda root]",
   "language": "python",
   "name": "conda-root-py"
  },
  "language_info": {
   "codemirror_mode": {
    "name": "ipython",
    "version": 3
   },
   "file_extension": ".py",
   "mimetype": "text/x-python",
   "name": "python",
   "nbconvert_exporter": "python",
   "pygments_lexer": "ipython3",
   "version": "3.6.6"
  }
 },
 "nbformat": 4,
 "nbformat_minor": 2
}
